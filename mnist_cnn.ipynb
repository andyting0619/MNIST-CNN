{
 "cells": [
  {
   "cell_type": "code",
   "execution_count": 1,
   "metadata": {},
   "outputs": [
    {
     "data": {
      "text/html": [
       "\n",
       "                <script type=\"application/javascript\" id=\"jupyter_black\">\n",
       "                (function() {\n",
       "                    if (window.IPython === undefined) {\n",
       "                        return\n",
       "                    }\n",
       "                    var msg = \"WARNING: it looks like you might have loaded \" +\n",
       "                        \"jupyter_black in a non-lab notebook with \" +\n",
       "                        \"`is_lab=True`. Please double check, and if \" +\n",
       "                        \"loading with `%load_ext` please review the README!\"\n",
       "                    console.log(msg)\n",
       "                    alert(msg)\n",
       "                })()\n",
       "                </script>\n",
       "                "
      ],
      "text/plain": [
       "<IPython.core.display.HTML object>"
      ]
     },
     "metadata": {},
     "output_type": "display_data"
    }
   ],
   "source": [
    "%load_ext jupyter_black\n",
    "%matplotlib inline"
   ]
  },
  {
   "cell_type": "code",
   "execution_count": 2,
   "metadata": {},
   "outputs": [],
   "source": [
    "import numpy as np\n",
    "import torch as tc\n",
    "import matplotlib.pyplot as plt"
   ]
  },
  {
   "cell_type": "code",
   "execution_count": 3,
   "metadata": {},
   "outputs": [],
   "source": [
    "from torchvision.datasets import MNIST\n",
    "\n",
    "train = MNIST(\"\", download=True, train=True)\n",
    "test = MNIST(\"\", download=True, train=False)"
   ]
  },
  {
   "cell_type": "code",
   "execution_count": 4,
   "metadata": {},
   "outputs": [],
   "source": [
    "X_train = train.data\n",
    "y_train = train.targets\n",
    "X_test = test.data\n",
    "y_test = test.targets"
   ]
  },
  {
   "cell_type": "code",
   "execution_count": 5,
   "metadata": {},
   "outputs": [
    {
     "data": {
      "image/png": "[encoded data removed]",
      "text/plain": [
       "<Figure size 640x480 with 1 Axes>"
      ]
     },
     "metadata": {},
     "output_type": "display_data"
    },
    {
     "name": "stdout",
     "output_type": "stream",
     "text": [
      "The number in the image is 3\n"
     ]
    }
   ],
   "source": [
    "image = X_train[10000]\n",
    "label = y_train[10000]\n",
    "\n",
    "plt.imshow(image, cmap=\"gray\")\n",
    "plt.show()\n",
    "print(\"The number in the image is\", label.numpy())"
   ]
  },
  {
   "cell_type": "code",
   "execution_count": 6,
   "metadata": {},
   "outputs": [],
   "source": [
    "train_counts = tc.bincount(y_train).numpy()\n",
    "test_counts = tc.bincount(y_test).numpy()"
   ]
  },
  {
   "cell_type": "code",
   "execution_count": 7,
   "metadata": {},
   "outputs": [
    {
     "name": "stdout",
     "output_type": "stream",
     "text": [
      "Training set counts: [5923 6742 5958 6131 5842 5421 5918 6265 5851 5949]\n",
      "Testing set counts: [ 980 1135 1032 1010  982  892  958 1028  974 1009]\n"
     ]
    }
   ],
   "source": [
    "print(\"Training set counts:\", train_counts)\n",
    "print(\"Testing set counts:\", test_counts)"
   ]
  },
  {
   "cell_type": "code",
   "execution_count": 8,
   "metadata": {},
   "outputs": [
    {
     "name": "stdout",
     "output_type": "stream",
     "text": [
      "Size of X_train is (60000, 28, 28)\n",
      "Size of y_train is (60000,)\n",
      "Size of X_test is (10000, 28, 28)\n",
      "Size of y_test is (10000,)\n"
     ]
    }
   ],
   "source": [
    "print(\"Size of X_train is\", X_train.numpy().shape)\n",
    "print(\"Size of y_train is\", y_train.numpy().shape)\n",
    "print(\"Size of X_test is\", X_test.numpy().shape)\n",
    "print(\"Size of y_test is\", y_test.numpy().shape)"
   ]
  },
  {
   "cell_type": "code",
   "execution_count": 9,
   "metadata": {},
   "outputs": [],
   "source": [
    "X_train = X_train.unsqueeze(1)\n",
    "X_test = X_test.unsqueeze(1)"
   ]
  },
  {
   "cell_type": "code",
   "execution_count": 10,
   "metadata": {},
   "outputs": [
    {
     "name": "stdout",
     "output_type": "stream",
     "text": [
      "Size of X_train is (60000, 1, 28, 28)\n",
      "Size of X_test is (10000, 1, 28, 28)\n"
     ]
    }
   ],
   "source": [
    "print(\"Size of X_train is\", X_train.numpy().shape)\n",
    "print(\"Size of X_test is\", X_test.numpy().shape)"
   ]
  },
  {
   "cell_type": "code",
   "execution_count": 11,
   "metadata": {},
   "outputs": [],
   "source": [
    "X_train = X_train.float() / 255\n",
    "X_test = X_test.float() / 255"
   ]
  },
  {
   "cell_type": "code",
   "execution_count": 12,
   "metadata": {},
   "outputs": [],
   "source": [
    "mean = tc.mean(X_train, dim=(0, 2, 3))\n",
    "std = tc.std(X_train, dim=(0, 2, 3))"
   ]
  },
  {
   "cell_type": "code",
   "execution_count": 13,
   "metadata": {},
   "outputs": [
    {
     "name": "stdout",
     "output_type": "stream",
     "text": [
      "Mean of X_train is 0.13066047\n",
      "Standard deviation of X_train is 0.30810782\n"
     ]
    }
   ],
   "source": [
    "print(\"Mean of X_train is\", np.squeeze(mean.numpy()))\n",
    "print(\"Standard deviation of X_train is\", np.squeeze(std.numpy()))"
   ]
  },
  {
   "cell_type": "code",
   "execution_count": 14,
   "metadata": {},
   "outputs": [],
   "source": [
    "X_train = (X_train - mean[None, :, None, None]) / std[None, :, None, None]\n",
    "X_test = (X_test - mean[None, :, None, None]) / std[None, :, None, None]"
   ]
  },
  {
   "cell_type": "code",
   "execution_count": 15,
   "metadata": {},
   "outputs": [],
   "source": [
    "import torch.nn as nn\n",
    "import torch.nn.init as init\n",
    "\n",
    "\n",
    "class LeNet5(nn.Module):\n",
    "    def __init__(self):\n",
    "        super(LeNet5, self).__init__()\n",
    "        self.conv1 = nn.Conv2d(1, 6, kernel_size=5, stride=1, padding=2)\n",
    "        self.bn1 = nn.BatchNorm2d(6)\n",
    "        self.pool1 = nn.AvgPool2d(kernel_size=2, stride=2)\n",
    "        init.xavier_normal_(self.conv1.weight)\n",
    "\n",
    "        self.conv2 = nn.Conv2d(6, 16, kernel_size=5, stride=1)\n",
    "        self.bn2 = nn.BatchNorm2d(16)\n",
    "        self.pool2 = nn.AvgPool2d(kernel_size=2, stride=2)\n",
    "        init.xavier_normal_(self.conv2.weight)\n",
    "\n",
    "        self.fc3 = nn.Linear(400, 120)\n",
    "        self.bn3 = nn.BatchNorm1d(120)\n",
    "        self.fc3_dropout = nn.Dropout(0.2)\n",
    "        init.xavier_normal_(self.fc3.weight)\n",
    "\n",
    "        self.fc4 = nn.Linear(120, 84)\n",
    "        self.bn4 = nn.BatchNorm1d(84)\n",
    "        self.fc4_dropout = nn.Dropout(0.1)\n",
    "        init.xavier_normal_(self.fc4.weight)\n",
    "\n",
    "        self.fc5 = nn.Linear(84, 10)\n",
    "        init.xavier_normal_(self.fc5.weight)\n",
    "\n",
    "    def forward(self, x):\n",
    "        x = self.conv1(x)\n",
    "        x = self.bn1(x)\n",
    "        x = tc.tanh(x)\n",
    "        x = self.pool1(x)\n",
    "\n",
    "        x = self.conv2(x)\n",
    "        x = self.bn2(x)\n",
    "        x = tc.tanh(x)\n",
    "        x = self.pool2(x)\n",
    "\n",
    "        x = tc.flatten(x, 1)\n",
    "\n",
    "        x = self.fc3(x)\n",
    "        x = self.bn3(x)\n",
    "        x = tc.tanh(x)\n",
    "        x = self.fc3_dropout(x)\n",
    "\n",
    "        x = self.fc4(x)\n",
    "        x = self.bn4(x)\n",
    "        x = tc.tanh(x)\n",
    "        x = self.fc4_dropout(x)\n",
    "\n",
    "        x = self.fc5(x)\n",
    "\n",
    "        return x"
   ]
  },
  {
   "cell_type": "code",
   "execution_count": 16,
   "metadata": {},
   "outputs": [],
   "source": [
    "import torch.optim as optim\n",
    "\n",
    "model = LeNet5()\n",
    "criterion = nn.CrossEntropyLoss()\n",
    "optimizer = optim.Adam(model.parameters(), lr=9e-3, weight_decay=3e-6)\n",
    "scheduler = optim.lr_scheduler.ExponentialLR(optimizer, gamma=0.5)"
   ]
  },
  {
   "cell_type": "code",
   "execution_count": 17,
   "metadata": {},
   "outputs": [
    {
     "name": "stdout",
     "output_type": "stream",
     "text": [
      "Epoch: 1/5, Training Loss: 0.1557, Validation Loss: 0.0973\n",
      "Epoch: 2/5, Training Loss: 0.0567, Validation Loss: 0.0363\n",
      "Epoch: 3/5, Training Loss: 0.0397, Validation Loss: 0.0297\n",
      "Epoch: 4/5, Training Loss: 0.0306, Validation Loss: 0.0275\n",
      "Epoch: 5/5, Training Loss: 0.0239, Validation Loss: 0.0232\n"
     ]
    }
   ],
   "source": [
    "from torch.utils.data import TensorDataset, DataLoader\n",
    "\n",
    "train_dataset = TensorDataset(X_train, y_train)\n",
    "test_dataset = TensorDataset(X_test, y_test)\n",
    "\n",
    "train_loader = DataLoader(train_dataset, batch_size=64, shuffle=True)\n",
    "test_loader = DataLoader(test_dataset, batch_size=32)\n",
    "\n",
    "epochs = 5\n",
    "losses = []\n",
    "val_losses = []\n",
    "\n",
    "for epoch in range(epochs):\n",
    "    epoch_loss = 0\n",
    "    epoch_val_loss = 0\n",
    "\n",
    "    for inputs, targets in train_loader:\n",
    "        optimizer.zero_grad()\n",
    "        outputs = model(inputs)\n",
    "        loss = criterion(outputs, targets)\n",
    "        epoch_loss += loss.item() * inputs.size(0)\n",
    "\n",
    "        loss.backward()\n",
    "        optimizer.step()\n",
    "\n",
    "    scheduler.step()\n",
    "\n",
    "    epoch_loss /= len(train_dataset)\n",
    "    losses.append(epoch_loss)\n",
    "\n",
    "    model.eval()\n",
    "\n",
    "    with tc.no_grad():\n",
    "        for inputs, targets in test_loader:\n",
    "            val_outputs = model(inputs)\n",
    "            val_loss = criterion(val_outputs, targets)\n",
    "            epoch_val_loss += val_loss.item() * inputs.size(0)\n",
    "\n",
    "    epoch_val_loss /= len(test_dataset)\n",
    "    val_losses.append(epoch_val_loss)\n",
    "\n",
    "    model.train()\n",
    "\n",
    "    print(\n",
    "        f\"Epoch: {epoch + 1}/{epochs}, Training Loss: {losses[epoch]:.4f}, Validation Loss: {val_losses[epoch]:.4f}\"\n",
    "    )"
   ]
  },
  {
   "cell_type": "code",
   "execution_count": 18,
   "metadata": {},
   "outputs": [
    {
     "data": {
      "image/png": "[encoded data removed]",
      "text/plain": [
       "<Figure size 640x480 with 1 Axes>"
      ]
     },
     "metadata": {},
     "output_type": "display_data"
    }
   ],
   "source": [
    "plt.plot(range(1, epochs + 1), losses, color=\"red\", label=\"train loss\")\n",
    "plt.plot(range(1, epochs + 1), val_losses, color=\"blue\", label=\"val loss\")\n",
    "plt.xlabel(\"Epoch\")\n",
    "plt.ylabel(\"Loss\")\n",
    "plt.legend()\n",
    "plt.show()"
   ]
  },
  {
   "cell_type": "code",
   "execution_count": 19,
   "metadata": {},
   "outputs": [],
   "source": [
    "model.eval()\n",
    "\n",
    "with tc.no_grad():\n",
    "    train_pred = tc.argmax(model(X_train), dim=1)\n",
    "    test_pred = tc.argmax(model(X_test), dim=1)"
   ]
  },
  {
   "cell_type": "code",
   "execution_count": 20,
   "metadata": {},
   "outputs": [
    {
     "name": "stdout",
     "output_type": "stream",
     "text": [
      "Training accuracy score is 0.9963166666666666\n",
      "Testing accuracy score is 0.9927\n"
     ]
    }
   ],
   "source": [
    "from sklearn.metrics import accuracy_score\n",
    "\n",
    "print(\"Training accuracy score is\", accuracy_score(y_train, train_pred))\n",
    "print(\"Testing accuracy score is\", accuracy_score(y_test, test_pred))"
   ]
  },
  {
   "cell_type": "code",
   "execution_count": 21,
   "metadata": {},
   "outputs": [
    {
     "name": "stdout",
     "output_type": "stream",
     "text": [
      "Precision score is 0.9927055674724554\n",
      "Recall score is 0.9927\n",
      "F1 score is 0.9926975134198665\n"
     ]
    }
   ],
   "source": [
    "from sklearn.metrics import precision_score, recall_score, f1_score\n",
    "\n",
    "print(\"Precision score is\", precision_score(y_test, test_pred, average=\"weighted\"))\n",
    "print(\"Recall score is\", recall_score(y_test, test_pred, average=\"weighted\"))\n",
    "print(\"F1 score is\", f1_score(y_test, test_pred, average=\"weighted\"))"
   ]
  },
  {
   "cell_type": "code",
   "execution_count": 22,
   "metadata": {},
   "outputs": [
    {
     "data": {
      "image/png": "[encoded data removed]",
      "text/plain": [
       "<Figure size 640x480 with 2 Axes>"
      ]
     },
     "metadata": {},
     "output_type": "display_data"
    }
   ],
   "source": [
    "import seaborn as sb\n",
    "from sklearn.metrics import confusion_matrix\n",
    "\n",
    "cfm = confusion_matrix(y_test, test_pred)\n",
    "\n",
    "sb.heatmap(cfm / np.sum(cfm, axis=1), annot=True, fmt=\".2\", cmap=\"Blues\")\n",
    "plt.show()"
   ]
  },
  {
   "cell_type": "code",
   "execution_count": 23,
   "metadata": {},
   "outputs": [
    {
     "data": {
      "image/png": "[encoded data removed]",
      "text/plain": [
       "<Figure size 640x480 with 1 Axes>"
      ]
     },
     "metadata": {},
     "output_type": "display_data"
    }
   ],
   "source": [
    "from PIL import Image\n",
    "\n",
    "image = np.array(Image.open(\"number.png\").resize((28, 28)).convert(\"L\"))\n",
    "\n",
    "plt.imshow(image)\n",
    "plt.show()"
   ]
  },
  {
   "cell_type": "code",
   "execution_count": 24,
   "metadata": {},
   "outputs": [
    {
     "name": "stdout",
     "output_type": "stream",
     "text": [
      "Size of image is (28, 28)\n"
     ]
    }
   ],
   "source": [
    "print(\"Size of image is\", image.shape)"
   ]
  },
  {
   "cell_type": "code",
   "execution_count": 25,
   "metadata": {},
   "outputs": [],
   "source": [
    "image = tc.from_numpy(image).float()\n",
    "image = image.unsqueeze(0).unsqueeze(0)"
   ]
  },
  {
   "cell_type": "code",
   "execution_count": 26,
   "metadata": {},
   "outputs": [
    {
     "name": "stdout",
     "output_type": "stream",
     "text": [
      "Size of image is (1, 1, 28, 28)\n"
     ]
    }
   ],
   "source": [
    "print(\"Size of image is\", image.numpy().shape)"
   ]
  },
  {
   "cell_type": "code",
   "execution_count": 27,
   "metadata": {},
   "outputs": [],
   "source": [
    "image = image / 255\n",
    "image = (image - mean[None, :, None, None]) / std[None, :, None, None]"
   ]
  },
  {
   "cell_type": "code",
   "execution_count": 28,
   "metadata": {},
   "outputs": [
    {
     "name": "stdout",
     "output_type": "stream",
     "text": [
      "The model predicts the number 3 in the image\n"
     ]
    }
   ],
   "source": [
    "model.eval()\n",
    "\n",
    "with tc.no_grad():\n",
    "    prediction = tc.argmax(model(image), dim=1)\n",
    "\n",
    "print(\"The model predicts the number\", np.squeeze(prediction.numpy()), \"in the image\")"
   ]
  },
  {
   "cell_type": "code",
   "execution_count": 29,
   "metadata": {},
   "outputs": [],
   "source": [
    "tc.save(model, \"model.pth\")"
   ]
  }
 ],
 "metadata": {
  "kernelspec": {
   "display_name": "Python 3",
   "language": "python",
   "name": "python3"
  },
  "language_info": {
   "codemirror_mode": {
    "name": "ipython",
    "version": 3
   },
   "file_extension": ".py",
   "mimetype": "text/x-python",
   "name": "python",
   "nbconvert_exporter": "python",
   "pygments_lexer": "ipython3",
   "version": "3.12.3"
  }
 },
 "nbformat": 4,
 "nbformat_minor": 2
}
